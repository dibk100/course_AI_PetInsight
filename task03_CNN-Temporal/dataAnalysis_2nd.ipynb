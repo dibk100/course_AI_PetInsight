{
 "cells": [
  {
   "cell_type": "markdown",
   "id": "21822074",
   "metadata": {},
   "source": [
    "# 데이터 확인"
   ]
  },
  {
   "cell_type": "code",
   "execution_count": 1,
   "id": "f5120f98",
   "metadata": {},
   "outputs": [
    {
     "name": "stdout",
     "output_type": "stream",
     "text": [
      "📁 폴더 개수: 14329개\n",
      "📦 JSON 파일 개수: 14329개\n"
     ]
    }
   ],
   "source": [
    "import os\n",
    "import json\n",
    "import pandas as pd\n",
    "\n",
    "# 최상위 경로 설정\n",
    "root_dir = '../data/CAT_image_2nd'\n",
    "json_count = 0\n",
    "\n",
    "\n",
    "# 하위 폴더 개수 세기\n",
    "folder_count = sum(\n",
    "    os.path.isdir(os.path.join(root_dir, name))\n",
    "    for name in os.listdir(root_dir)\n",
    ")\n",
    "\n",
    "print(f\"📁 폴더 개수: {folder_count}개\")\n",
    "\n",
    "for folder_name in os.listdir(root_dir):\n",
    "    folder_path = os.path.join(root_dir, folder_name)\n",
    "\n",
    "    if os.path.isdir(folder_path):\n",
    "        for file_name in os.listdir(folder_path):\n",
    "            if file_name.endswith('.json'):\n",
    "                json_count += 1\n",
    "\n",
    "print(f\"📦 JSON 파일 개수: {json_count}개\")"
   ]
  },
  {
   "cell_type": "markdown",
   "id": "3ecb3ecd",
   "metadata": {},
   "source": [
    "## Step01 : 전체 데이터 확인 및 라벨 전처리"
   ]
  },
  {
   "cell_type": "code",
   "execution_count": 2,
   "id": "71b494a8",
   "metadata": {},
   "outputs": [],
   "source": [
    "# 정규화할 라벨 매핑 정의 : 태윤님 라벨링 작업과 Align\n",
    "action_label_map = {\n",
    "    \"걷거나 뜀\": \"걷거나 달리는 동작\",\n",
    "    \"걷거나 뜀 \": \"걷거나 달리는 동작\",\n",
    "    \"걷거나 뛰는 동작\": \"걷거나 달리는 동작\",\n",
    "\n",
    "    \"꼬리를 흔든다\": \"꼬리를 흔드는 동작\",\n",
    "    \"꼬리를 흔드는 동작\": \"꼬리를 흔드는 동작\",\n",
    "\n",
    "    \"납작 엎드림\": \"납작 엎드리는 동작\",\n",
    "    \"납작 엎드리는 동작\": \"납작 엎드리는 동작\",\n",
    "\n",
    "    \"배를 보임\": \"배를 보여주는 동작\",\n",
    "    \"배를 보이는 동작\": \"배를 보여주는 동작\",\n",
    "    \"배를 보여주는 동작\": \"배를 보여주는 동작\",\n",
    "\n",
    "    \"그루밍함\": \"그루밍하는 동작\",\n",
    "    \"그루밍하는 동작\": \"그루밍하는 동작\",\n",
    "\n",
    "    \"머리를 들이댐\": \"머리를 들이대는 동작\",\n",
    "    \"머리를 들이대는 동작\": \"머리를 들이대는 동작\",\n",
    "\n",
    "    \"발을 숨기고 웅크리고 앉음\": \"발을 숨기고 웅크리고 앉는 동작\",\n",
    "    \"발을 숨기고 웅크리고 앉는 동작\": \"발을 숨기고 웅크리고 앉는 동작\",\n",
    "\n",
    "    \"앞발로 꾹꾹 누름\": \"앞발로 꾹꾹 누르는 동작\",\n",
    "    \"앞발로 꾹꾹 누르는 동작\": \"앞발로 꾹꾹 누르는 동작\",\n",
    "\n",
    "    \"옆으로 누워 있음\": \"옆으로 눕는 동작\",\n",
    "    \"옆으로 눕는 동작\": \"옆으로 눕는 동작\",\n",
    "\n",
    "    \"좌우로 뒹굴음\": \"좌우로 뒹구는 동작\",\n",
    "    \"좌우로 뒹구는 동작\": \"좌우로 뒹구는 동작\",\n",
    "\n",
    "    \"팔을 뻗어 휘적거림\": \"팔을 뻗어 휘적거리는 동작\",\n",
    "    \"앞발을 뻗어 휘적거리는 동작\": \"팔을 뻗어 휘적거리는 동작\",\n",
    "\n",
    "    \"허리를 아치로 세움\": \"허리를 아치로 세우는 동작\",\n",
    "    \"허리를 아치로 세우는 동작\": \"허리를 아치로 세우는 동작\"\n",
    "}"
   ]
  },
  {
   "cell_type": "code",
   "execution_count": 3,
   "id": "c6a511e6",
   "metadata": {},
   "outputs": [],
   "source": [
    "situation_label_map = {\n",
    "    # 기타\n",
    "    \"공격성_기타\": \"기타\",\n",
    "    \"공포_기타\": \"기타\",\n",
    "    \"불안/슬픔_기타\": \"기타\",\n",
    "    \"편안/안정_기타\": \"기타\",\n",
    "    \"행복/즐거움_기타\": \"기타\",\n",
    "    \"화남/불쾌_기타\": \"기타\",\n",
    "\n",
    "    # 낯선 소리 관련\n",
    "    \"공격성_초인종 소리가 났을 때\": \"낯선 소리\",\n",
    "    \"공격성_낯선 소리가 났을 때\": \"낯선 소리\",\n",
    "    \"공격성_낯선 소리가 나거나 낯선 사람을 봤을 때\": \"낯선 소리\",\n",
    "    \"공포_초인종 소리가 났을 때\": \"낯선 소리\",\n",
    "    \"공포_낯선 소리가 났을 때\": \"낯선 소리\",\n",
    "    \"공포_낯선 소리가 나거나 낯선 사람을 봤을 때\": \"낯선 소리\",\n",
    "    \"불안/슬픔_낯선 소리가 났을 때\": \"낯선 소리\",\n",
    "    \"불안/슬픔_낯선 소리가 나거나 낯선 사람을 봤을 때\": \"낯선 소리\",\n",
    "    \"편안/안정_낯선 소리가 났을 때\": \"낯선 소리\",\n",
    "    \"편안/안정_낯선 소리가 나거나 낯선 사람을 봤을 때\": \"낯선 소리\",\n",
    "    \"행복/즐거움_초인종 소리가 났을 때\": \"낯선 소리\",\n",
    "    \"행복/즐거움_낯선 소리가 났을 때\": \"낯선 소리\",\n",
    "    \"행복/즐거움_낯선 소리가 나거나 낯선 사람을 봤을 때\": \"낯선 소리\",\n",
    "    \"화남/불쾌_초인종 소리가 났을 때\": \"낯선 소리\",\n",
    "    \"화남/불쾌_낯선 소리가 났을 때\": \"낯선 소리\",\n",
    "    \"화남/불쾌_낯선 소리가 나거나 낯선 사람을 봤을 때\": \"낯선 소리\",\n",
    "\n",
    "    # 낯선 사람/동물/장소 관련\n",
    "    \"공격성_낯선 도구를 자신의 몸에 사용할 때(미용도구 등)\": \"미용/위생관리\",\n",
    "    \"공격성_빗질/발톱깍기/목욕 등 위생관리를 할 때\": \"미용/위생관리\",\n",
    "    \"공포_낯선 도구를 자신의 몸에 사용할 때(미용도구)\": \"미용/위생관리\",\n",
    "    \"공포_빗질/발톱깍기/목욕 등 위생관리를 할 때\": \"미용/위생관리\",\n",
    "    \"불안/슬픔_빗질/발톱깍기/목욕 등 위생관리를 할 때\": \"미용/위생관리\",\n",
    "    \"편안/안정_낯선 도구를 자신의 몸에 사용할 때(미용도구 등)\": \"미용/위생관리\",\n",
    "    \"편안/안정_빗질/발톱깍기/목욕 등 위생관리를 할 때\": \"미용/위생관리\",\n",
    "    \"행복/즐거움_빗질/발톱깍기/목욕 등 위생관리를 할 때\": \"미용/위생관리\",\n",
    "    \"화남/불쾌_빗질/발톱깍기/목욕 등 위생관리를 할 때\": \"미용/위생관리\",\n",
    "    \"목욕할 때\": \"미용/위생관리\",\n",
    "    \"목욕하거나 싫어하는 부위를 만질 때\" : \"미용/위생관리\",\n",
    "    \n",
    "    \"공격성_낯선 동물 또는 사람을 만났을 때\": \"낯선 사람/동물\",\n",
    "    \"공격성_다른 동물을 보거나 낯선 사람을 만날 때\": \"낯선 사람/동물\",\n",
    "    \"공격성_다른 동물을 보거나 낯선 사람을 만날 때 산책 나왔을 때\": \"낯선 사람/동물\",\n",
    "    \"공포_다른 사람이나 동물을 만났을 때\": \"낯선 사람/동물\",\n",
    "    \"공포_낯선 동물 또는 사람을 만났을 때\": \"낯선 사람/동물\",\n",
    "    \"불안/슬픔_다른 동물을 보거나 낯선 사람을 만날 때\": \"낯선 사람/동물\",\n",
    "    \"불안/슬픔_다른 사람이나 동물을 만났을 때\": \"낯선 사람/동물\",\n",
    "    \"편안/안정_다른 동물을 보거나 낯선 사람을 만날 때\": \"낯선 사람/동물\",\n",
    "    \"편안/안정_다른 동물을 보거나 낯선 사람을 만날 때 산책 나왔을 때\": \"낯선 사람/동물\",\n",
    "    \"편안/안정_다른 사람이나 동물을 만났을 때\": \"낯선 사람/동물\",\n",
    "    \"행복/즐거움_다른 동물을 보거나 낯선 사람을 만날 때 산책 나왔을 때\": \"낯선 사람/동물\",\n",
    "    \"행복/즐거움_다른 사람이나 동물을 만났을 때\": \"낯선 사람/동물\",\n",
    "    \"화남/불쾌_낯선 동물 또는 사람을 만났을 때\": \"낯선 사람/동물\",\n",
    "    \"화남/불쾌_다른 동물을 보거나 낯선 사람을 만날 때\": \"낯선 사람/동물\",\n",
    "    \"화남/불쾌_다른 동물을 보거나 낯선 사람을 만날 때 산책 나왔을 때\": \"낯선 사람/동물\",\n",
    "    \"화남/불쾌_다른 사람이나 동물을 만났을 때\": \"낯선 사람/동물\",\n",
    "\n",
    "    \"공격성_낯선 장소에 있거나 낯선 소리가 날 때\": \"낯선 장소\",\n",
    "    \"공포_낯선 장소에 있거나 낯선 소리가 날 때\": \"낯선 장소\",\n",
    "    \"불안/슬픔_낯선 장소에 있거나 낯선 소리가 날 때\": \"낯선 장소\",\n",
    "    \"편안/안정_낯선 장소에 있거나 낯선 소리가 날 때\": \"낯선 장소\",\n",
    "    \"행복/즐거움_낯선 장소에 있거나 낯선 소리가 날 때\": \"낯선 장소\",\n",
    "    \"화남/불쾌_낯선 장소에 있거나 낯선 소리가 날 때\": \"낯선 장소\",\n",
    "\n",
    "    # 산책 관련\n",
    "    \"공격성_산책이나 노즈워크 중\": \"산책 중/산책 준비\",\n",
    "    \"불안/슬픔_산책 준비 또는 산책중일 때\": \"산책 중/산책 준비\",\n",
    "    \"불안/슬픔_산책이나 노즈워크 중\": \"산책 중/산책 준비\",\n",
    "    \"편안/안정_산책 준비 또는 산책중일 때\": \"산책 중/산책 준비\",\n",
    "    \"편안/안정_산책이나 노즈워크 중\": \"산책 중/산책 준비\",\n",
    "    \"행복/즐거움_산책 준비 또는 산책중일 때\": \"산책 중/산책 준비\",\n",
    "    \"행복/즐거움_산책이나 노즈워크 중\": \"산책 중/산책 준비\",\n",
    "    \"화남/불쾌_산책 준비 또는 산책중일 때\": \"산책 중/산책 준비\",\n",
    "    \"화남/불쾌_산책이나 노즈워크 중\": \"산책 중/산책 준비\",\n",
    "\n",
    "    # 먹을 것/장난감 관련 (추가)\n",
    "    \"공격성_먹을것, 장난감이 앞에 있을 때\": \"먹을 것/장난감이 앞에 있을 때\",\n",
    "    \"공포_먹을것, 장난감이 앞에 있을 때\": \"먹을 것/장난감이 앞에 있을 때\",\n",
    "    \"불안/슬픔_먹을것, 장난감이 앞에 있을 때\": \"먹을 것/장난감이 앞에 있을 때\",\n",
    "    \"편안/안정_먹을것, 장난감이 앞에 있을 때\": \"먹을 것/장난감이 앞에 있을 때\",\n",
    "    \"행복/즐거움_먹을것, 장난감이 앞에 있을 때\": \"먹을 것/장난감이 앞에 있을 때\",\n",
    "    \"화남/불쾌_먹을것, 장난감이 앞에 있을 때\": \"먹을 것/장난감이 앞에 있을 때\",\n",
    "\n",
    "    # 싫어하는 부위 접촉 (추가)\n",
    "    \"공격성_싫어하는 부위를 만질 때\": \"싫어하는 부위 접촉\",\n",
    "    \"불안/슬픔_싫어하는 부위를 만질 때\": \"싫어하는 부위 접촉\",\n",
    "    \"편안/안정_싫어하는 부위를 만질 때\": \"싫어하는 부위 접촉\",\n",
    "    \"행복/즐거움_싫어하는 부위를 만질 때\": \"싫어하는 부위 접촉\",\n",
    "    \"화남/불쾌_싫어하는 부위를 만질 때\": \"싫어하는 부위 접촉\",\n",
    "\n",
    "    # 보호자 관련\n",
    "    \"공격성_보호자가 집에 돌아왔을 때\": \"보호자 돌아옴\",\n",
    "    \"공포_보호자가 집에 돌아왔을 때\": \"보호자 돌아옴\",\n",
    "    \"불안/슬픔_보호자가 집에 돌아왔을 때\": \"보호자 돌아옴\",\n",
    "    \"편안/안정_보호자가 집에 돌아왔을 때\": \"보호자 돌아옴\",\n",
    "    \"행복/즐거움_보호자가 집에 돌아왔을 때\": \"보호자 돌아옴\",\n",
    "    \"화남/불쾌_보호자가 집에 돌아왔을 때\": \"보호자 돌아옴\",\n",
    "\n",
    "    \"공격성_보호자에게 혼났을 때\": \"보호자에게 혼남\",\n",
    "    \"불안/슬픔_보호자에게 혼났을 때\": \"보호자에게 혼남\",\n",
    "    \"편안/안정_보호자에게 혼났을 때\": \"보호자에게 혼남\",\n",
    "    \"화남/불쾌_보호자에게 혼났을 때\": \"보호자에게 혼남\",\n",
    "    \"혼날 때\" : \"보호자에게 혼남\",\n",
    "\n",
    "    \"불안/슬픔_보호자와 떨어지거나 혼자 남겨졌을 때\": \"보호자와 분리\",\n",
    "    \"편안/안정_보호자와 떨어지거나 혼자 남겨졌을 때\": \"보호자와 분리\",\n",
    "    \"행복/즐거움_보호자와 떨어질 때/혼자 남겨지거나 낯선장소에 있을 때\": \"보호자와 분리\",\n",
    "    \"화남/불쾌_보호자와 떨어질 때/혼자 남겨지거나 낯선장소에 있을 때\": \"보호자와 분리\",\n",
    "\n",
    "    # 편안한 접촉\n",
    "    \"공격성_편안히 쓰다듬어 줄 때\": \"편안한 접촉\",\n",
    "    \"불안/슬픔_편안히 쓰다듬어 줄 때\": \"편안한 접촉\",\n",
    "    \"편안/안정_편안히 쓰다듬어 줄 때\": \"편안한 접촉\",\n",
    "    \"행복/즐거움_편안히 쓰다듬어 줄 때\": \"편안한 접촉\",\n",
    "    \"화남/불쾌_편안히 쓰다듬어 줄 때\": \"편안한 접촉\",\n",
    "\n",
    "    # 잠들기 전/같이 누움\n",
    "    \"공격성_잠들기 전이나 같이 누워있을 때\": \"잠들기 전/같이 누움\",\n",
    "    \"불안/슬픔_잠들기 전이나 같이 누워있을 때\": \"잠들기 전/같이 누움\",\n",
    "    \"편안/안정_잠들기 전이나 같이 누워있을 때\": \"잠들기 전/같이 누움\",\n",
    "    \"행복/즐거움_잠들기 전이나 같이 누워있을 때\": \"잠들기 전/같이 누움\",\n",
    "    \"화남/불쾌_잠들기 전이나 같이 누워있을 때\": \"잠들기 전/같이 누움\",\n",
    "\n",
    "    # 휴식/자기 공간\n",
    "    \"공격성_휴식시간, 자신만의 공간에 들어갔을 때(캔넬, 소파 침대 밑 등)\": \"휴식/자기 공간\",\n",
    "    \"불안/슬픔_휴식시간, 자신만의 공간에 들어갔을 때(캔넬, 소파 침대 밑 등)\": \"휴식/자기 공간\",\n",
    "    \"편안/안정_휴식시간, 자신만의 공간에 들어갔을 때(캔넬, 소파 침대 밑 등)\": \"휴식/자기 공간\",\n",
    "    \"행복/즐거움_휴식시간, 자신만의 공간에 들어갔을 때(캔넬, 소파 침대 밑 등)\": \"휴식/자기 공간\",\n",
    "    \"화남/불쾌_휴식시간, 자신만의 공간에 들어갔을 때(캔넬, 소파 침대 밑 등)\": \"휴식/자기 공간\",\n",
    "        # 기타\n",
    "\n",
    "    # 낯선 사람/동물/장소 관련\n",
    "    \"낯선 동물 또는 사람을 만났을 때\": \"낯선 사람/동물\",\n",
    "    \n",
    "    # 산책 관련\n",
    "    \"다른 동물을 보거나 낯선 사람을 만날 때 산책 나왔을 때\": \"산책 중/산책 준비\",\n",
    "    \"산책 나왔을 때\": \"산책 중/산책 준비\",\n",
    "    \n",
    "    \"목욕하거나 싫어하는 부위를 만질 때\" : \"미용/위생관리\",\n",
    "    \"목욕할 때\" : \"미용/위생관리\",\n",
    "\n",
    "\n",
    "    # 먹을 것/장난감 관련 (추가)\n",
    "\n",
    "\n",
    "    # 싫어하는 부위 접촉 (추가)\n",
    "    \"낯선 도구를 자신의 몸에 사용할 때(미용도구 등)\": \"미용/위생관리\",\n",
    "\n",
    "\n",
    "    # 보호자 관련\n",
    "    \"보호자와 떨어질 때/혼자 남겨지거나 낯선장소에 있을 때\": \"보호자와 분리\",\n",
    "    \n",
    "    \"혼날 때\" : \"보호자에게 혼남\"\n",
    "}\n"
   ]
  },
  {
   "cell_type": "code",
   "execution_count": 4,
   "id": "d7c44c13",
   "metadata": {},
   "outputs": [
    {
     "name": "stdout",
     "output_type": "stream",
     "text": [
      "Done!\n"
     ]
    }
   ],
   "source": [
    "import os\n",
    "import json\n",
    "import csv\n",
    "\n",
    "json_root = \"../data/CAT_image_2nd/\"\n",
    "output_csv = \"../data/summary_normalized.csv\"\n",
    "\n",
    "header = [\"video_name\", \"frames\", \"action\", \"emotion\", \"situation\"]\n",
    "\n",
    "with open(output_csv, \"w\", newline='', encoding='utf-8') as f_out:\n",
    "    writer = csv.writer(f_out)\n",
    "    writer.writerow(header)\n",
    "\n",
    "    # json_root 아래 모든 폴더 리스트\n",
    "    folder_list = [f for f in os.listdir(json_root) if os.path.isdir(os.path.join(json_root, f))]\n",
    "\n",
    "    for i, folder_name in enumerate(folder_list, 1):\n",
    "        folder_path = os.path.join(json_root, folder_name)\n",
    "\n",
    "        json_files = [f for f in os.listdir(folder_path) if f.endswith(\".json\")]\n",
    "\n",
    "        if len(json_files) == 0:\n",
    "            print(f\"Warning: No JSON file found in folder {folder_name}\")\n",
    "            continue\n",
    "\n",
    "        json_path = os.path.join(folder_path, json_files[0])\n",
    "\n",
    "        with open(json_path, 'r', encoding='utf-8') as f_json:\n",
    "            data = json.load(f_json)\n",
    "\n",
    "            # video_name에 폴더 전체 경로 (상대경로) 넣기\n",
    "            video_name = folder_path    # <- 여기 수정\n",
    "\n",
    "            frames_count = len([img for img in os.listdir(folder_path) if img.endswith(\".jpg\")])\n",
    "\n",
    "            raw_action = data.get(\"metadata\", {}).get(\"action\", \"\") or data.get(\"metadata\", {}).get(\"inspect\", {}).get(\"action\", \"\")\n",
    "            raw_emotion = data.get(\"metadata\", {}).get(\"inspect\", {}).get(\"emotion\", \"\")\n",
    "            raw_situation = data.get(\"metadata\", {}).get(\"owner\", {}).get(\"situation\", \"\")\n",
    "\n",
    "            action = action_label_map.get(raw_action, raw_action)\n",
    "            combined_key = f\"{raw_emotion}_{raw_situation}\"\n",
    "            situation = situation_label_map.get(combined_key, raw_situation)\n",
    "\n",
    "            writer.writerow([video_name, frames_count, action, raw_emotion, situation])\n",
    "\n",
    "    print(\"Done!\")"
   ]
  },
  {
   "cell_type": "markdown",
   "id": "1ff9b951",
   "metadata": {},
   "source": [
    "데이터 확인"
   ]
  },
  {
   "cell_type": "code",
   "execution_count": 5,
   "id": "c1ff454e",
   "metadata": {},
   "outputs": [],
   "source": [
    "# 데이터 상태 확인용도로 함수 정의함\n",
    "def print_label_distribution(df):\n",
    "    label_columns = ['action', 'emotion', 'situation']\n",
    "    for col in label_columns:\n",
    "        print(f\"🔹 {col} 분포:\")\n",
    "        print(df[col].value_counts())\n",
    "        print()\n",
    "        \n",
    "        unique_labels = sorted(df[col].unique())\n",
    "        print(f\"🔹 {col} 라벨 셋 ({len(unique_labels)}개):\")\n",
    "        for label in unique_labels:\n",
    "            print(f\"  - {label}\")\n",
    "        print(\"\\n\")\n",
    "        \n",
    "situation_label_map = {\n",
    "    # 기타\n",
    "\n",
    "    # 낯선 사람/동물/장소 관련\n",
    "    \"낯선 동물 또는 사람을 만났을 때\": \"낯선 사람/동물\",\n",
    "    \n",
    "    # 산책 관련\n",
    "    \"다른 동물을 보거나 낯선 사람을 만날 때 산책 나왔을 때\": \"산책 중/산책 준비\",\n",
    "    \"산책 나왔을 때\": \"산책 중/산책 준비\",\n",
    "    \n",
    "    \"목욕하거나 싫어하는 부위를 만질 때\" : \"미용/위생관리\",\n",
    "    \"목욕할 때\" : \"미용/위생관리\",\n",
    "\n",
    "\n",
    "    # 먹을 것/장난감 관련 (추가)\n",
    "\n",
    "\n",
    "    # 싫어하는 부위 접촉 (추가)\n",
    "    \"낯선 도구를 자신의 몸에 사용할 때(미용도구 등)\": \"미용/위생관리\",\n",
    "\n",
    "\n",
    "    # 보호자 관련\n",
    "    \"보호자와 떨어질 때/혼자 남겨지거나 낯선장소에 있을 때\": \"보호자와 분리\",\n",
    "    \n",
    "    \"혼날 때\" : \"보호자에게 혼남\"\n",
    "}\n"
   ]
  },
  {
   "cell_type": "code",
   "execution_count": 6,
   "id": "8d8e1aed",
   "metadata": {},
   "outputs": [],
   "source": [
    "# df = pd.read_csv(\"../data/summary_normalized.csv\")\n",
    "\n",
    "# df['action'] = df['action'].apply(lambda x: action_label_map.get(x.strip(), x.strip()) if isinstance(x, str) else x)\n",
    "# df['situation'] = df['situation'].apply(lambda x: situation_label_map.get(x.strip(), x.strip()) if isinstance(x, str) else x)\n",
    "\n",
    "# print_label_distribution(df)"
   ]
  },
  {
   "cell_type": "markdown",
   "id": "63adf687",
   "metadata": {},
   "source": [
    "### Step02 : 프레임 수 고려해서 train/val/test dataset Setting"
   ]
  },
  {
   "cell_type": "code",
   "execution_count": 7,
   "id": "8549de2a",
   "metadata": {},
   "outputs": [],
   "source": [
    "# df['frames'].describe()"
   ]
  },
  {
   "cell_type": "code",
   "execution_count": 8,
   "id": "4528bf99",
   "metadata": {},
   "outputs": [],
   "source": [
    "# df_filtered = df[(df['frames'] >= 25) & (df['frames'] <= 150)]\n",
    "# df_filtered['frames'].describe()"
   ]
  },
  {
   "cell_type": "code",
   "execution_count": 9,
   "id": "6758d9df",
   "metadata": {},
   "outputs": [],
   "source": [
    "# print_label_distribution(df_filtered)"
   ]
  },
  {
   "cell_type": "code",
   "execution_count": 10,
   "id": "7ed6093f",
   "metadata": {},
   "outputs": [],
   "source": [
    "# df_filtered.to_csv(\"df_filtered.csv\", index=False)"
   ]
  },
  {
   "cell_type": "markdown",
   "id": "9b1263a2",
   "metadata": {},
   "source": [
    "situation과 emotion조합으로 train/val로 나눌려고 했으나 샘플수가 적어서 pass"
   ]
  },
  {
   "cell_type": "code",
   "execution_count": 11,
   "id": "3204e4eb",
   "metadata": {},
   "outputs": [],
   "source": [
    "# # stratify 기준 컬럼 생성\n",
    "# df['stratify_col'] = df['situation'] + \"_\" + df['emotion']\n"
   ]
  },
  {
   "cell_type": "code",
   "execution_count": 12,
   "id": "3860489f",
   "metadata": {},
   "outputs": [],
   "source": [
    "# 산책 중/산책 준비_행복/즐거움                                1\n",
    "# 잠들기 전이나 같이 누워있을 때_공격성                            1\n",
    "# 미용/위생관리_행복/즐거움                                   1\n",
    "# 산책이나 노즈워크 중_공격성                                  1\n",
    "# 낯선 소리가 났을 때_화남/불쾌                                1"
   ]
  },
  {
   "cell_type": "code",
   "execution_count": 13,
   "id": "9d7bc419",
   "metadata": {},
   "outputs": [],
   "source": [
    "# combo_counts =df['stratify_col'].value_counts()\n",
    "# combo_counts\n",
    "# valid_combos = combo_counts[combo_counts >= 2].index\n",
    "# df_valid = df[df['stratify_col'].isin(valid_combos)]"
   ]
  },
  {
   "cell_type": "code",
   "execution_count": 14,
   "id": "694dd05d",
   "metadata": {},
   "outputs": [],
   "source": [
    "# print_label_distribution(df_valid)\n",
    "# df_valid"
   ]
  },
  {
   "cell_type": "code",
   "execution_count": 16,
   "id": "2fe98e78",
   "metadata": {},
   "outputs": [],
   "source": [
    "df = pd.read_csv(\"../data/setting_1st.csv\")\n",
    "\n",
    "combo_counts =df['stratify_col'].value_counts()\n",
    "combo_counts\n",
    "valid_combos = combo_counts[combo_counts >= 2].index\n",
    "df_valid = df[df['stratify_col'].isin(valid_combos)]"
   ]
  },
  {
   "cell_type": "code",
   "execution_count": 21,
   "id": "b819b17a",
   "metadata": {},
   "outputs": [
    {
     "name": "stdout",
     "output_type": "stream",
     "text": [
      "🔹 action 분포:\n",
      "action\n",
      "그루밍하는 동작             4349\n",
      "꼬리를 흔드는 동작           2133\n",
      "걷거나 달리는 동작           1492\n",
      "발을 숨기고 웅크리고 앉는 동작    1292\n",
      "옆으로 눕는 동작            1188\n",
      "팔을 뻗어 휘적거리는 동작        823\n",
      "머리를 들이대는 동작           737\n",
      "배를 보여주는 동작            709\n",
      "앞발로 꾹꾹 누르는 동작         671\n",
      "좌우로 뒹구는 동작            566\n",
      "납작 엎드리는 동작            319\n",
      "허리를 아치로 세우는 동작         50\n",
      "Name: count, dtype: int64\n",
      "\n",
      "🔹 action 라벨 셋 (12개):\n",
      "  - 걷거나 달리는 동작\n",
      "  - 그루밍하는 동작\n",
      "  - 꼬리를 흔드는 동작\n",
      "  - 납작 엎드리는 동작\n",
      "  - 머리를 들이대는 동작\n",
      "  - 발을 숨기고 웅크리고 앉는 동작\n",
      "  - 배를 보여주는 동작\n",
      "  - 앞발로 꾹꾹 누르는 동작\n",
      "  - 옆으로 눕는 동작\n",
      "  - 좌우로 뒹구는 동작\n",
      "  - 팔을 뻗어 휘적거리는 동작\n",
      "  - 허리를 아치로 세우는 동작\n",
      "\n",
      "\n",
      "🔹 emotion 분포:\n",
      "emotion\n",
      "편안/안정     11458\n",
      "행복/즐거움     1875\n",
      "공격성         398\n",
      "화남/불쾌       394\n",
      "불안/슬픔       185\n",
      "공포           19\n",
      "Name: count, dtype: int64\n",
      "\n",
      "🔹 emotion 라벨 셋 (6개):\n",
      "  - 공격성\n",
      "  - 공포\n",
      "  - 불안/슬픔\n",
      "  - 편안/안정\n",
      "  - 행복/즐거움\n",
      "  - 화남/불쾌\n",
      "\n",
      "\n",
      "🔹 situation 분포:\n",
      "situation\n",
      "휴식/자기 공간                  3511\n",
      "기타                        3475\n",
      "먹을 것/장난감이 앞에 있을 때         2384\n",
      "잠들기 전/같이 누움               2196\n",
      "편안한 접촉                     945\n",
      "보호자 돌아옴                    781\n",
      "산책 중/산책 준비                 393\n",
      "싫어하는 부위 접촉                 204\n",
      "낯선 사람/동물                    95\n",
      "미용/위생관리                     90\n",
      "낯선 소리                       88\n",
      "밥그릇, 장난감과 같은 소유물을 만질 때      65\n",
      "낯선 장소                       62\n",
      "보호자와 분리                     25\n",
      "보호자에게 혼남                    15\n",
      "Name: count, dtype: int64\n",
      "\n",
      "🔹 situation 라벨 셋 (15개):\n",
      "  - 기타\n",
      "  - 낯선 사람/동물\n",
      "  - 낯선 소리\n",
      "  - 낯선 장소\n",
      "  - 먹을 것/장난감이 앞에 있을 때\n",
      "  - 미용/위생관리\n",
      "  - 밥그릇, 장난감과 같은 소유물을 만질 때\n",
      "  - 보호자 돌아옴\n",
      "  - 보호자에게 혼남\n",
      "  - 보호자와 분리\n",
      "  - 산책 중/산책 준비\n",
      "  - 싫어하는 부위 접촉\n",
      "  - 잠들기 전/같이 누움\n",
      "  - 편안한 접촉\n",
      "  - 휴식/자기 공간\n",
      "\n",
      "\n"
     ]
    }
   ],
   "source": [
    "print_label_distribution(df)"
   ]
  },
  {
   "cell_type": "code",
   "execution_count": 22,
   "id": "733bd9f4",
   "metadata": {},
   "outputs": [],
   "source": [
    "# stratified split\n",
    "from sklearn.model_selection import train_test_split\n",
    "# stratified split\n",
    "train_val, test = train_test_split(\n",
    "    df_valid, test_size=0.2, random_state=42,\n",
    "    stratify=df_valid['stratify_col']\n",
    ")\n",
    "\n",
    "train, val = train_test_split(\n",
    "    train_val,\n",
    "    test_size=0.25,  # 0.25 * 0.8 = 0.2\n",
    "    random_state=42,\n",
    "    stratify=train_val['stratify_col']\n",
    ")\n"
   ]
  },
  {
   "cell_type": "code",
   "execution_count": 23,
   "id": "86a7f2df",
   "metadata": {},
   "outputs": [
    {
     "name": "stdout",
     "output_type": "stream",
     "text": [
      "\n",
      "[Train] situation:\n",
      " stratify_col\n",
      "휴식/자기 공간_편안/안정              0.241010\n",
      "기타_편안/안정                    0.211451\n",
      "잠들기 전/같이 누움_편안/안정           0.151984\n",
      "먹을 것/장난감이 앞에 있을 때_행복/즐거움    0.083673\n",
      "편안한 접촉_편안/안정                0.062958\n",
      "                              ...   \n",
      "싫어하는 부위 접촉_행복/즐거움           0.000233\n",
      "편안한 접촉_공격성                  0.000233\n",
      "먹을 것/장난감이 앞에 있을 때_공포        0.000233\n",
      "낯선 장소_행복/즐거움                0.000233\n",
      "미용/위생관리_행복/즐거움              0.000233\n",
      "Name: proportion, Length: 69, dtype: float64\n",
      "[Train] emotion:\n",
      " stratify_col\n",
      "휴식/자기 공간_편안/안정              0.241010\n",
      "기타_편안/안정                    0.211451\n",
      "잠들기 전/같이 누움_편안/안정           0.151984\n",
      "먹을 것/장난감이 앞에 있을 때_행복/즐거움    0.083673\n",
      "편안한 접촉_편안/안정                0.062958\n",
      "                              ...   \n",
      "싫어하는 부위 접촉_행복/즐거움           0.000233\n",
      "편안한 접촉_공격성                  0.000233\n",
      "먹을 것/장난감이 앞에 있을 때_공포        0.000233\n",
      "낯선 장소_행복/즐거움                0.000233\n",
      "미용/위생관리_행복/즐거움              0.000233\n",
      "Name: proportion, Length: 69, dtype: float64\n"
     ]
    }
   ],
   "source": [
    "# 또는 개별 label별 분포도 확인 가능\n",
    "print(\"\\n[Train] situation:\\n\", train['stratify_col'].value_counts(normalize=True))\n",
    "print(\"[Train] emotion:\\n\", train['stratify_col'].value_counts(normalize=True))"
   ]
  },
  {
   "cell_type": "code",
   "execution_count": 24,
   "id": "1a9a9ffe",
   "metadata": {},
   "outputs": [
    {
     "name": "stdout",
     "output_type": "stream",
     "text": [
      "Train: 8593 | Val: 2865 | Test: 2865\n"
     ]
    }
   ],
   "source": [
    "print(f\"Train: {len(train['frames'])} | Val: {len(val['frames'])} | Test: {len(test['frames'])}\")"
   ]
  },
  {
   "cell_type": "code",
   "execution_count": 20,
   "id": "f1e56acf",
   "metadata": {},
   "outputs": [
    {
     "name": "stderr",
     "output_type": "stream",
     "text": [
      "/tmp/ipykernel_1495506/2025028682.py:29: FutureWarning: \n",
      "\n",
      "Passing `palette` without assigning `hue` is deprecated and will be removed in v0.14.0. Assign the `y` variable to `hue` and set `legend=False` for the same effect.\n",
      "\n",
      "  sns.barplot(x=value_counts.values, y=value_counts.index, palette=\"viridis\")\n"
     ]
    },
    {
     "data": {
      "image/png": "[encoded data removed]",
      "text/plain": [
       "<Figure size 1000x600 with 1 Axes>"
      ]
     },
     "metadata": {},
     "output_type": "display_data"
    },
    {
     "name": "stderr",
     "output_type": "stream",
     "text": [
      "/tmp/ipykernel_1495506/2025028682.py:29: FutureWarning: \n",
      "\n",
      "Passing `palette` without assigning `hue` is deprecated and will be removed in v0.14.0. Assign the `y` variable to `hue` and set `legend=False` for the same effect.\n",
      "\n",
      "  sns.barplot(x=value_counts.values, y=value_counts.index, palette=\"viridis\")\n"
     ]
    },
    {
     "data": {
      "image/png": "[encoded data removed]",
      "text/plain": [
       "<Figure size 1000x600 with 1 Axes>"
      ]
     },
     "metadata": {},
     "output_type": "display_data"
    },
    {
     "name": "stderr",
     "output_type": "stream",
     "text": [
      "/tmp/ipykernel_1495506/2025028682.py:29: FutureWarning: \n",
      "\n",
      "Passing `palette` without assigning `hue` is deprecated and will be removed in v0.14.0. Assign the `y` variable to `hue` and set `legend=False` for the same effect.\n",
      "\n",
      "  sns.barplot(x=value_counts.values, y=value_counts.index, palette=\"viridis\")\n"
     ]
    },
    {
     "data": {
      "image/png": "[encoded data removed]",
      "text/plain": [
       "<Figure size 1000x600 with 1 Axes>"
      ]
     },
     "metadata": {},
     "output_type": "display_data"
    }
   ],
   "source": [
    "import matplotlib.pyplot as plt\n",
    "import matplotlib.font_manager as fm\n",
    "import matplotlib\n",
    "import seaborn as sns\n",
    "import warnings\n",
    "\n",
    "# matplotlib findfont 경고 끄기\n",
    "warnings.filterwarnings(\"ignore\", category=UserWarning, module=\"matplotlib\")\n",
    "warnings.filterwarnings(\"ignore\", message=\"findfont: Font family .* not found\")\n",
    "# matplotlib 내부 로깅 레벨을 WARNING 이상으로 올리기\n",
    "\n",
    "\n",
    "# NotoSansCJK 폰트 경로 지정\n",
    "font_path = '/usr/share/fonts/opentype/noto/NotoSansCJK-Regular.ttc'\n",
    "font_prop = fm.FontProperties(fname=font_path)\n",
    "plt.rcParams['font.family'] = font_prop.get_name()\n",
    "plt.rcParams['axes.unicode_minus'] = False\n",
    "# 마이너스 기호 깨짐 방지\n",
    "matplotlib.rcParams['axes.unicode_minus'] = False\n",
    "\n",
    "# 시각화 함수\n",
    "def plot_label_distribution(df, column_name, top_n=None):\n",
    "    plt.figure(figsize=(10, 6))\n",
    "    value_counts = df[column_name].value_counts()\n",
    "\n",
    "    if top_n:\n",
    "        value_counts = value_counts[:top_n]\n",
    "\n",
    "    sns.barplot(x=value_counts.values, y=value_counts.index, palette=\"viridis\")\n",
    "    plt.title(f\"{column_name.capitalize()} 분포\", fontsize=14)\n",
    "    plt.xlabel(\"Count\")\n",
    "    plt.ylabel(column_name.capitalize())\n",
    "    plt.tight_layout()\n",
    "    plt.show()\n",
    "\n",
    "# 각각 라벨 분포 시각화\n",
    "plot_label_distribution(df, 'emotion')\n",
    "plot_label_distribution(df, 'situation')\n",
    "plot_label_distribution(df, 'action')\n"
   ]
  },
  {
   "cell_type": "code",
   "execution_count": null,
   "id": "de6bd573",
   "metadata": {},
   "outputs": [],
   "source": [
    "def plot_label_distribution_by_frames(df, column_name, top_n=None):\n",
    "    plt.figure(figsize=(10, 6))\n",
    "    \n",
    "    # 라벨별 프레임 수 총합 계산\n",
    "    label_frame_counts = df.groupby(column_name)['frames'].sum().sort_values(ascending=False)\n",
    "\n",
    "    if top_n:\n",
    "        label_frame_counts = label_frame_counts[:top_n]\n",
    "\n",
    "    sns.barplot(x=label_frame_counts.values, y=label_frame_counts.index, palette=\"viridis\")\n",
    "    plt.title(f\"{column_name} (프레임 기준) 분포\", fontsize=14)\n",
    "    plt.xlabel(\"총 프레임 수\")\n",
    "    plt.ylabel(column_name)\n",
    "    plt.tight_layout()\n",
    "    plt.show()\n",
    "\n",
    "# 프레임 기준 분포 시각화\n",
    "plot_label_distribution_by_frames(df, 'emotion')\n",
    "plot_label_distribution_by_frames(df, 'situation')\n",
    "plot_label_distribution_by_frames(df, 'action')"
   ]
  },
  {
   "cell_type": "code",
   "execution_count": 25,
   "id": "48cccbe1",
   "metadata": {},
   "outputs": [],
   "source": [
    "train = train.drop(columns=['stratify_col'])\n",
    "val = val.drop(columns=['stratify_col'])\n",
    "test = test.drop(columns=['stratify_col'])"
   ]
  },
  {
   "cell_type": "code",
   "execution_count": null,
   "id": "909af50e",
   "metadata": {},
   "outputs": [],
   "source": [
    "# train, val, test\n",
    "# train.to_csv(\"../data/train_fin.csv\", index=False)\n",
    "# val.to_csv(\"../data/val_fin.csv\", index=False)\n",
    "# test.to_csv(\"../data/test_fin.csv\", index=False)"
   ]
  },
  {
   "cell_type": "markdown",
   "id": "17259ab4",
   "metadata": {},
   "source": [
    "### step03 : 샘플링 전랴"
   ]
  },
  {
   "cell_type": "code",
   "execution_count": null,
   "id": "526f18c3",
   "metadata": {},
   "outputs": [],
   "source": [
    "df_valid.head()"
   ]
  },
  {
   "cell_type": "code",
   "execution_count": null,
   "id": "da15c94e",
   "metadata": {},
   "outputs": [],
   "source": [
    "# # stratify 기준 컬럼 생성\n",
    "# df_valid['stratify_col'] = df_valid['situation'] + \"_\" + df_valid['emotion']\n",
    "\n",
    "# combo_counts =df_valid['stratify_col'].value_counts()\n",
    "# # combo_counts"
   ]
  },
  {
   "cell_type": "code",
   "execution_count": null,
   "id": "0d454a02",
   "metadata": {},
   "outputs": [],
   "source": [
    "import pandas as pd\n",
    "\n",
    "def show(col,df):\n",
    "    # 1) 각 클래스별 샘플 수 확인\n",
    "    class_counts = df[col].value_counts()\n",
    "    print(class_counts)\n",
    "\n",
    "    # 2) 언더샘플링 기준: 소수 클래스 샘플 수로 맞추기 (최소 샘플 수)\n",
    "    min_count = class_counts.min()\n",
    "    print(f\"언더샘플링 기준 샘플 수: {min_count}\\n\")\n",
    "\n",
    "    # 3) 클래스별로 샘플을 랜덤하게 min_count 만큼 추출해서 합치기\n",
    "    df_under = pd.concat([\n",
    "        df[df[col] == cls].sample(min_count, random_state=42)\n",
    "        for cls in class_counts.index\n",
    "    ])\n",
    "\n",
    "    # 4) 결과 확인\n",
    "    print(df_under[col].value_counts())"
   ]
  },
  {
   "cell_type": "code",
   "execution_count": null,
   "id": "95bf14f6",
   "metadata": {},
   "outputs": [],
   "source": [
    "col = 'stratify_col'\n",
    "show(col,df_valid)"
   ]
  },
  {
   "cell_type": "code",
   "execution_count": null,
   "id": "fc70a487",
   "metadata": {},
   "outputs": [],
   "source": [
    "import pandas as pd\n",
    "\n",
    "def under_sampling_with_threshold(df, stratify_col, threshold=10, multiplier=3, random_state=42):\n",
    "    class_counts = df[stratify_col].value_counts()\n",
    "    \n",
    "    # 기준 이상인 클래스만 선택\n",
    "    valid_classes = class_counts[class_counts >= threshold].index.tolist()\n",
    "    print(f\"기준 이상 클래스 수: {len(valid_classes)} / 전체 클래스 수: {len(class_counts)}\")\n",
    "    \n",
    "    target_count = threshold * multiplier\n",
    "    print(f\"샘플링 목표 수: {target_count}\")\n",
    "    \n",
    "    sampled_df_list = []\n",
    "    for cls in valid_classes:\n",
    "        cls_df = df[df[stratify_col] == cls]\n",
    "        n_samples = min(len(cls_df), target_count)\n",
    "        sampled = cls_df.sample(n_samples, random_state=random_state)\n",
    "        sampled_df_list.append(sampled)\n",
    "    \n",
    "    # 기준 미만 클래스는 원본 그대로 포함할지 선택 (여기서는 포함)\n",
    "    small_class_df = df[~df[stratify_col].isin(valid_classes)]\n",
    "    sampled_df_list.append(small_class_df)\n",
    "    \n",
    "    result_df = pd.concat(sampled_df_list).reset_index(drop=True)\n",
    "    \n",
    "    print(\"언더샘플링 후 클래스별 샘플 수:\")\n",
    "    print(result_df[stratify_col].value_counts())\n",
    "    \n",
    "    return result_df\n",
    "\n"
   ]
  },
  {
   "cell_type": "code",
   "execution_count": null,
   "id": "26006d8f",
   "metadata": {},
   "outputs": [],
   "source": [
    "# 사용 예\n",
    "new_dataset = under_sampling_with_threshold(df_valid, 'stratify_col', threshold=10, multiplier=3)\n"
   ]
  },
  {
   "cell_type": "code",
   "execution_count": null,
   "id": "60290d19",
   "metadata": {},
   "outputs": [],
   "source": [
    "print_label_distribution(new_dataset)"
   ]
  },
  {
   "cell_type": "code",
   "execution_count": null,
   "id": "592318b0",
   "metadata": {},
   "outputs": [],
   "source": [
    "# stratified split\n",
    "from sklearn.model_selection import train_test_split\n",
    "# stratified split\n",
    "train_val, test = train_test_split(\n",
    "    new_dataset, test_size=0.2, random_state=42,\n",
    "    stratify=new_dataset['stratify_col']\n",
    ")\n",
    "\n",
    "train, val = train_test_split(\n",
    "    train_val,\n",
    "    test_size=0.25,  # 0.25 * 0.8 = 0.2\n",
    "    random_state=42,\n",
    "    stratify=train_val['stratify_col']\n",
    ")\n"
   ]
  },
  {
   "cell_type": "code",
   "execution_count": null,
   "id": "be4b6a37",
   "metadata": {},
   "outputs": [],
   "source": [
    "# 또는 개별 label별 분포도 확인 가능\n",
    "print(\"\\n[Train] situation:\\n\", train['stratify_col'].value_counts(normalize=True))\n",
    "print(\"[Train] emotion:\\n\", train['stratify_col'].value_counts(normalize=True))"
   ]
  },
  {
   "cell_type": "code",
   "execution_count": null,
   "id": "6c063702",
   "metadata": {},
   "outputs": [],
   "source": [
    "train = train.drop(columns=['stratify_col'])\n",
    "val = val.drop(columns=['stratify_col'])\n",
    "test = test.drop(columns=['stratify_col'])"
   ]
  },
  {
   "cell_type": "code",
   "execution_count": null,
   "id": "59e5f48d",
   "metadata": {},
   "outputs": [],
   "source": [
    "print(f\"Train: {len(train)} | Val: {len(val)} | Test: {len(test)}\")"
   ]
  },
  {
   "cell_type": "code",
   "execution_count": null,
   "id": "025ce2ee",
   "metadata": {},
   "outputs": [],
   "source": [
    "# train, val, test\n",
    "train.to_csv(\"../data/train_under.csv\", index=False)\n",
    "val.to_csv(\"../data/val_under.csv\", index=False)\n",
    "test.to_csv(\"../data/test_under.csv\", index=False)"
   ]
  },
  {
   "cell_type": "markdown",
   "id": "7f105dfd",
   "metadata": {},
   "source": [
    "---"
   ]
  },
  {
   "cell_type": "code",
   "execution_count": null,
   "id": "89076e1c",
   "metadata": {},
   "outputs": [],
   "source": [
    "\n",
    "df = pd.read_csv(\"../data/setting_1st.csv\")\n",
    "\n",
    "unique_names_list = df['video_name'].unique()\n",
    "df"
   ]
  },
  {
   "cell_type": "code",
   "execution_count": null,
   "id": "91f57ce4",
   "metadata": {},
   "outputs": [],
   "source": [
    "import os\n",
    "import pandas as pd\n",
    "\n",
    "# CSV 로드\n",
    "df = pd.read_csv(\"../data/setting_1st.csv\")  # ← 여기에 너의 csv 경로 입력\n",
    "\n",
    "# video_name은 확장자 제거 안 함!\n",
    "df_video_names = set(df['video_name'])\n",
    "\n",
    "# 실제 폴더 이름 리스트 추출 (디렉토리만)\n",
    "root_path = \"../data/CAT_image_2nd\"\n",
    "folder_list = [f for f in os.listdir(root_path) if os.path.isdir(os.path.join(root_path, f))]\n",
    "folder_set = set(folder_list)\n",
    "\n",
    "# 누락된 항목 확인\n",
    "missing_in_df = folder_set - df_video_names\n",
    "missing_in_folder = df_video_names - folder_set\n",
    "\n",
    "# 출력\n",
    "print(f\"📁 폴더 개수: {len(folder_set)}\")\n",
    "print(f\"📄 df 내 video_name 개수: {len(df_video_names)}\")\n",
    "print(f\"❌ 폴더에는 있지만 df에는 없는 항목 수: {len(missing_in_df)}\")\n",
    "print(f\"❌ df에는 있지만 폴더에는 없는 항목 수: {len(missing_in_folder)}\")\n",
    "\n",
    "# (선택) 누락 리스트 출력\n",
    "# print(\"폴더에는 있는데 df에는 없는 항목:\", missing_in_df)\n",
    "# print(\"df에는 있는데 폴더에는 없는 항목:\", missing_in_folder)\n"
   ]
  },
  {
   "cell_type": "code",
   "execution_count": null,
   "id": "a065fa90",
   "metadata": {},
   "outputs": [],
   "source": [
    "# import pandas as pd\n",
    "# import os\n",
    "\n",
    "# csv_path = \"../data/train_fin.csv\"  # 기존 csv\n",
    "# root_dir = \"../data/CAT_image_2nd/\"          # 프레임 이미지 폴더 최상위 경로\n",
    "\n",
    "# df = pd.read_csv(csv_path)\n",
    "\n",
    "# # video_name 컬럼에 대해 실제 폴더 경로로 변경\n",
    "# # df['video_path'] = df['video_name'].apply(lambda x: os.path.join(root_dir, x))\n",
    "\n",
    "# # 만약 기존 video_name 대신 덮어쓰려면\n",
    "# df['video_name'] = df['video_name'].apply(lambda x: os.path.join(root_dir, x))\n",
    "\n",
    "# # 새 csv로 저장\n",
    "# df.to_csv(\"../data/train_fin_2nd.csv\", index=False)\n"
   ]
  }
 ],
 "metadata": {
  "kernelspec": {
   "display_name": "dibk311",
   "language": "python",
   "name": "python3"
  },
  "language_info": {
   "codemirror_mode": {
    "name": "ipython",
    "version": 3
   },
   "file_extension": ".py",
   "mimetype": "text/x-python",
   "name": "python",
   "nbconvert_exporter": "python",
   "pygments_lexer": "ipython3",
   "version": "3.11.11"
  }
 },
 "nbformat": 4,
 "nbformat_minor": 5
}
