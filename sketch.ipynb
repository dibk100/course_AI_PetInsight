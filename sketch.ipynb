{
 "cells": [
  {
   "cell_type": "markdown",
   "id": "9dcb4cee",
   "metadata": {},
   "source": [
    "테스트용"
   ]
  },
  {
   "cell_type": "code",
   "execution_count": 1,
   "id": "d1c9dfcc",
   "metadata": {},
   "outputs": [
    {
     "name": "stdout",
     "output_type": "stream",
     "text": [
      "동영상 수 :  100\n",
      "프레임 수 :  10532\n",
      "미씽 프레임 수 :  5777\n",
      "패스 파일 수 :  0\n",
      "스킵 폴더 수 :  0\n",
      "\n",
      "📊 라벨 통계:\n",
      "행복/즐거움    : 3035개\n",
      "편안/안정     : 440개\n",
      "화남/불쾌     : 416개\n",
      "공격성       : 864개\n"
     ]
    }
   ],
   "source": [
    "from dataset import get_dataloaders\n",
    "\n",
    "train_loader, test_loader = get_dataloaders(batch_size=32,task='emotion')"
   ]
  },
  {
   "cell_type": "code",
   "execution_count": null,
   "id": "59ba90ea",
   "metadata": {},
   "outputs": [],
   "source": []
  },
  {
   "cell_type": "code",
   "execution_count": null,
   "id": "0df9e0b3",
   "metadata": {},
   "outputs": [],
   "source": []
  },
  {
   "cell_type": "code",
   "execution_count": null,
   "id": "594f7ee3",
   "metadata": {},
   "outputs": [],
   "source": []
  }
 ],
 "metadata": {
  "kernelspec": {
   "display_name": "dibk311",
   "language": "python",
   "name": "python3"
  },
  "language_info": {
   "codemirror_mode": {
    "name": "ipython",
    "version": 3
   },
   "file_extension": ".py",
   "mimetype": "text/x-python",
   "name": "python",
   "nbconvert_exporter": "python",
   "pygments_lexer": "ipython3",
   "version": "3.11.11"
  }
 },
 "nbformat": 4,
 "nbformat_minor": 5
}
