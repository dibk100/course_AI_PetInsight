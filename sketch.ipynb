{
 "cells": [
  {
   "cell_type": "markdown",
   "id": "9dcb4cee",
   "metadata": {},
   "source": []
  },
  {
   "cell_type": "code",
   "execution_count": 4,
   "id": "76d6be75",
   "metadata": {},
   "outputs": [],
   "source": [
    "from dataset import CatBehaviorDataset, get_transform\n",
    "\n",
    "json_dir='data_mini_cat/CAT_labeled'\n",
    "img_root_dir='data_mini_cat/CAT_raw'\n",
    "task = 'emotion'\n",
    "\n",
    "transform = get_transform()\n",
    "dataset = CatBehaviorDataset(transform = transform,json_dir=json_dir, img_root_dir=img_root_dir, task=task)\n"
   ]
  },
  {
   "cell_type": "code",
   "execution_count": null,
   "id": "b312984b",
   "metadata": {},
   "outputs": [],
   "source": [
    "def get_dataloaders(batch_size=32, task='emotion', json_dir='data_mini_cat/CAT_labeled', img_root_dir='data_mini_cat/CAT_raw'):\n",
    "    transform = get_transform()\n",
    "    dataset = CatBehaviorDataset(transform = transform,json_dir=json_dir, img_root_dir=img_root_dir, task=task)\n",
    "\n",
    "    # 전체 데이터 개수\n",
    "    total_size = len(dataset)\n",
    "    if total_size == 0:\n",
    "        raise ValueError(\"Dataset is empty. Check if the paths and label extraction are correct.\")\n",
    "\n",
    "    # 학습/검증 비율 (예: 80/20)\n",
    "    train_size = int(0.8 * total_size)\n",
    "    test_size = total_size - train_size\n",
    "\n",
    "    train_dataset, test_dataset = random_split(dataset, train_size, test_size)\n",
    "\n",
    "    train_loader = DataLoader(train_dataset, batch_size=batch_size, shuffle=True)\n",
    "    test_loader = DataLoader(test_dataset, batch_size=batch_size, shuffle=False)\n",
    "\n",
    "    return train_loader, test_loader"
   ]
  },
  {
   "cell_type": "code",
   "execution_count": 6,
   "id": "ace0455e",
   "metadata": {},
   "outputs": [],
   "source": [
    "dataloader = DataLoader(dataset, batch_size=16, shuffle=True)"
   ]
  },
  {
   "cell_type": "code",
   "execution_count": 3,
   "id": "722fbb39",
   "metadata": {},
   "outputs": [
    {
     "ename": "NameError",
     "evalue": "name 'dataloader' is not defined",
     "output_type": "error",
     "traceback": [
      "\u001b[31m---------------------------------------------------------------------------\u001b[39m",
      "\u001b[31mNameError\u001b[39m                                 Traceback (most recent call last)",
      "\u001b[36mCell\u001b[39m\u001b[36m \u001b[39m\u001b[32mIn[3]\u001b[39m\u001b[32m, line 1\u001b[39m\n\u001b[32m----> \u001b[39m\u001b[32m1\u001b[39m \u001b[43mdataloader\u001b[49m\n",
      "\u001b[31mNameError\u001b[39m: name 'dataloader' is not defined"
     ]
    }
   ],
   "source": [
    "dataloader"
   ]
  },
  {
   "cell_type": "code",
   "execution_count": null,
   "id": "56f0a0ae",
   "metadata": {},
   "outputs": [],
   "source": []
  },
  {
   "cell_type": "markdown",
   "id": "c80798f2",
   "metadata": {},
   "source": [
    "---"
   ]
  },
  {
   "cell_type": "code",
   "execution_count": null,
   "id": "aee2a6bd",
   "metadata": {},
   "outputs": [],
   "source": [
    "from torchvision import transforms\n",
    "from torch.utils.data import DataLoader\n",
    "from dataset import CatBehaviorDataset\n",
    "\n",
    "transform = transforms.Compose([\n",
    "    transforms.Resize((224, 224)),\n",
    "    transforms.ToTensor()\n",
    "])\n",
    "\n",
    "dataset = CatBehaviorDataset(\n",
    "    json_dir=\"data_mini_cat/CAT_labeled\",\n",
    "    image_root=\"data_mini_cat/CAT_raw/\",\n",
    "    \n",
    "    transform=transform\n",
    ")\n",
    "\n",
    "dataloader = DataLoader(dataset, batch_size=16, shuffle=True)\n",
    "\n",
    "for images, labels in dataloader:\n",
    "    print(images.shape)  # [B, 3, 224, 224]\n",
    "    print(labels)        # 행동명 리스트\n",
    "    break\n"
   ]
  },
  {
   "cell_type": "code",
   "execution_count": null,
   "id": "ac1237fe",
   "metadata": {},
   "outputs": [],
   "source": [
    "len(dataloader)"
   ]
  },
  {
   "cell_type": "code",
   "execution_count": null,
   "id": "594f7ee3",
   "metadata": {},
   "outputs": [],
   "source": []
  }
 ],
 "metadata": {
  "kernelspec": {
   "display_name": "dibk311",
   "language": "python",
   "name": "python3"
  },
  "language_info": {
   "codemirror_mode": {
    "name": "ipython",
    "version": 3
   },
   "file_extension": ".py",
   "mimetype": "text/x-python",
   "name": "python",
   "nbconvert_exporter": "python",
   "pygments_lexer": "ipython3",
   "version": "3.11.11"
  }
 },
 "nbformat": 4,
 "nbformat_minor": 5
}
